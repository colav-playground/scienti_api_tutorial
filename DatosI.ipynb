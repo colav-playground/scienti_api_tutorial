{
 "cells": [
  {
   "cell_type": "markdown",
   "id": "519a5c32",
   "metadata": {},
   "source": [
    "\n",
    "<a href=\"https://colab.research.google.com/github/colav-playground/scienti_api_tutorial/blob/main/DatosI.ipynb\">\n",
    "  <img align=\"left\" src=\"https://colab.research.google.com/assets/colab-badge.svg\" alt=\"Open In Colab\"/>\n",
    "</a>\n",
    "\n",
    "![Colav UdeA](https://raw.githubusercontent.com/colav/colav.github.io/master/img/Logo.png)\n",
    "\n",
    "# Tutorial Scienti Datos I\n",
    "\n",
    "JSON y Diccionarios\n",
    "# Tareas\n",
    "Revisar los casos de estos tutoriales:\n",
    "\n",
    "* https://www.mclibre.org/consultar/informatica/lecciones/formato-json.html"
   ]
  },
  {
   "attachments": {
    "6661760c-4a16-4e4e-a0e0-84b6aa22f433.png": {
     "image/png": "[encoded data removed]"
    }
   },
   "cell_type": "markdown",
   "id": "32460c6e",
   "metadata": {},
   "source": [
    "# ¿Qué es un JSON?\n",
    "JSON (JavaScript Object Notation) es un formato de texto diseñado para intercambio datos,\n",
    "permite representar los datos básicos de programación, como lo son, cadenas de caracteres, \n",
    "números, booleanos, diccionarios (Objetos) y nulos.\n",
    "\n",
    "![image.png](attachment:6661760c-4a16-4e4e-a0e0-84b6aa22f433.png)"
   ]
  },
  {
   "cell_type": "markdown",
   "id": "713a7c0d-6973-4169-a0bc-c810130168db",
   "metadata": {},
   "source": [
    "# ¿Cómo accedemos a la información?\n",
    "\n",
    "* Lo primero es cargar los datos del archivo de texto\n",
    "* Luego decirle a la librería de json que cargue el string como un objeto (diccionario)\n",
    "* Ya como diccionario podemos accerder por las claves"
   ]
  },
  {
   "cell_type": "code",
   "execution_count": null,
   "id": "a509b73c",
   "metadata": {},
   "outputs": [],
   "source": [
    "import json"
   ]
  },
  {
   "cell_type": "code",
   "execution_count": null,
   "id": "1d4c1ab4",
   "metadata": {},
   "outputs": [],
   "source": [
    "file = open(\"sample-json.txt\")\n",
    "file_data = file.read()\n",
    "print(type(file_data))\n",
    "file_data"
   ]
  },
  {
   "cell_type": "code",
   "execution_count": null,
   "id": "b349d386",
   "metadata": {},
   "outputs": [],
   "source": [
    "data = json.loads(file_data)\n",
    "file.close()\n",
    "print(type(data))\n",
    "data"
   ]
  },
  {
   "cell_type": "markdown",
   "id": "5480c397-6357-4e59-8047-5b1c3dbbb257",
   "metadata": {},
   "source": [
    "# Ejercicio\n",
    "\n",
    "* ¿Cómo accedo a la edad de Marie?\n",
    "* ¿Cómo accedo a la edad de Ana y Diego?"
   ]
  },
  {
   "cell_type": "code",
   "execution_count": null,
   "id": "9426bfdc",
   "metadata": {},
   "outputs": [],
   "source": []
  },
  {
   "cell_type": "markdown",
   "id": "b3236b55-c080-4a28-b92b-eb9ad26da127",
   "metadata": {},
   "source": [
    "# Requests (Recogida de Datos)\n",
    "\n",
    "En internet los datos se transmiten a través protocolos de comunicación,\n",
    "tales como HTTP, HTTPS, FTP, etc.\n",
    "Estos protocolos tienen una serie de métodos para transferir información o hacer procedimientos;\n",
    "tal como GET, POST, DELETE, PUT etc.\n",
    "\n",
    "\n",
    "Para nuetsro caso, nos vamos a concentrar es HTTP con el método GET.\n",
    "\n",
    "Para hacer estos peticiones, python cuenta con una librería llamada request, \n",
    "que permite obtener los datos fácilmente.\n",
    "\n",
    "Revisar\n",
    "\n",
    "https://www.w3schools.com/tags/ref_httpmethods.asp"
   ]
  },
  {
   "cell_type": "code",
   "execution_count": null,
   "id": "a3477d86-cab6-45cf-9618-85a2cd2754d0",
   "metadata": {},
   "outputs": [],
   "source": [
    "import requests"
   ]
  },
  {
   "cell_type": "code",
   "execution_count": null,
   "id": "74348f11-aec2-49c5-84f3-97716b167b55",
   "metadata": {},
   "outputs": [],
   "source": [
    "#los URL es la ruta de entrega\n",
    "URL=\"http://clustercien.udea.edu.co/scienti/datos.json\""
   ]
  },
  {
   "cell_type": "code",
   "execution_count": null,
   "id": "9558daff-48a4-4ae3-8e79-41a44a60c1e2",
   "metadata": {},
   "outputs": [],
   "source": [
    "response = requests.get(endpoint)\n",
    "# uno sabe que todo salió bien por los códigos de estado\n",
    "# https://www.w3schools.com/tags/ref_httpmessages.asp\n",
    "print(response.status_code)"
   ]
  },
  {
   "cell_type": "code",
   "execution_count": null,
   "id": "2a09c69e-9182-473a-84f3-3313b68b5c37",
   "metadata": {},
   "outputs": [],
   "source": [
    "data = response.json()\n",
    "data"
   ]
  },
  {
   "cell_type": "code",
   "execution_count": null,
   "id": "9924b683-c03b-4ab4-afe4-ee837b9e5481",
   "metadata": {},
   "outputs": [],
   "source": [
    "#vamos a hacer un ejemplo de un request malo\n",
    "response = requests.get(\"http://clustercien.udea.edu.co/scienti/mal_request.json\")"
   ]
  },
  {
   "cell_type": "code",
   "execution_count": null,
   "id": "f702fb0c-1524-47ec-8d9c-def55208125e",
   "metadata": {},
   "outputs": [],
   "source": [
    "print(response.status_code)"
   ]
  },
  {
   "cell_type": "code",
   "execution_count": null,
   "id": "2cf7162b-636e-4ddb-b164-6a8b55bbffee",
   "metadata": {},
   "outputs": [],
   "source": [
    "#response.json()"
   ]
  },
  {
   "cell_type": "markdown",
   "id": "85012028-5e3b-4584-bc5d-1fc759a1a0ad",
   "metadata": {},
   "source": [
    "# Tarea\n",
    "\n",
    "* ¿Qué es una API?\n",
    "* ¿Qué es un endpoint?\n"
   ]
  }
 ],
 "metadata": {
  "kernelspec": {
   "display_name": "Python 3 (ipykernel)",
   "language": "python",
   "name": "python3"
  },
  "language_info": {
   "codemirror_mode": {
    "name": "ipython",
    "version": 3
   },
   "file_extension": ".py",
   "mimetype": "text/x-python",
   "name": "python",
   "nbconvert_exporter": "python",
   "pygments_lexer": "ipython3",
   "version": "3.10.6"
  }
 },
 "nbformat": 4,
 "nbformat_minor": 5
}
