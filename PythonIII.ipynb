{
 "cells": [
  {
   "cell_type": "markdown",
   "id": "519a5c32",
   "metadata": {},
   "source": [
    "\n",
    "<a href=\"https://colab.research.google.com/github/colav-playground/scienti_api_tutorial/blob/main/PythonIII.ipynb\">\n",
    "  <img align=\"left\" src=\"https://colab.research.google.com/assets/colab-badge.svg\" alt=\"Open In Colab\"/>\n",
    "</a>\n",
    "\n",
    "![Colav UdeA](https://raw.githubusercontent.com/colav/colav.github.io/master/img/Logo.png)\n",
    "\n",
    "# Tutorial Python III\n",
    "\n",
    "funciones y Entrada/Salida\n",
    "\n",
    "# Tareas\n",
    "Tarea revisar los casos de estos tutoriales\n",
    "\n",
    "* https://www.mclibre.org/consultar/python/lecciones/python-funciones-1.html\n",
    "* https://www.mclibre.org/consultar/python/lecciones/python-funciones-2.html"
   ]
  },
  {
   "cell_type": "markdown",
   "id": "32460c6e",
   "metadata": {},
   "source": [
    "# Funciones\n",
    "\n",
    "* Son bloques de código que se pueden reutilizar fácilmente\n",
    "* Se definen con def\n",
    "* Retornan uno o múltiples valores\n",
    "* Para retornar se usa la palabla clave return\n",
    "* Puede recibir parámetros"
   ]
  },
  {
   "cell_type": "code",
   "execution_count": null,
   "id": "6e806da2",
   "metadata": {},
   "outputs": [],
   "source": [
    "def saludo():\n",
    "    print(\"hola a todos y todas\")"
   ]
  },
  {
   "cell_type": "code",
   "execution_count": null,
   "id": "7ffc1983",
   "metadata": {},
   "outputs": [],
   "source": [
    "saludo()"
   ]
  },
  {
   "cell_type": "code",
   "execution_count": null,
   "id": "e72fa049",
   "metadata": {},
   "outputs": [],
   "source": [
    "retorno=saludo()\n",
    "print(type(retorno))"
   ]
  },
  {
   "cell_type": "code",
   "execution_count": null,
   "id": "dfd7b185",
   "metadata": {},
   "outputs": [],
   "source": [
    "def saludo(nombre):\n",
    "    return f\"hola {nombre}\""
   ]
  },
  {
   "cell_type": "code",
   "execution_count": null,
   "id": "aa6c3626",
   "metadata": {},
   "outputs": [],
   "source": [
    "saludo()"
   ]
  },
  {
   "cell_type": "code",
   "execution_count": null,
   "id": "e01d337e",
   "metadata": {},
   "outputs": [],
   "source": [
    "saludo(\"Marie\")"
   ]
  },
  {
   "cell_type": "code",
   "execution_count": null,
   "id": "72cdf7ef",
   "metadata": {},
   "outputs": [],
   "source": [
    "def suma(a,b):\n",
    "    return a+b"
   ]
  },
  {
   "cell_type": "code",
   "execution_count": null,
   "id": "ef146f44",
   "metadata": {},
   "outputs": [],
   "source": [
    "suma(1,2)"
   ]
  },
  {
   "cell_type": "code",
   "execution_count": null,
   "id": "e9c4e572",
   "metadata": {},
   "outputs": [],
   "source": [
    "suma(\"a\",\"b\")"
   ]
  },
  {
   "cell_type": "markdown",
   "id": "9c5b6487",
   "metadata": {},
   "source": [
    "### Variables locales y globales\n",
    "\n",
    "puede haber confusión en las variables que de definen dentro y fuera de la función con el mismo nombre,\n",
    "para eso vamos a ver variables globales y locales\n"
   ]
  },
  {
   "cell_type": "code",
   "execution_count": 9,
   "id": "847011e1",
   "metadata": {},
   "outputs": [],
   "source": [
    "valor = 10\n",
    "\n",
    "def funcion():\n",
    "    valor = 20\n",
    "    print(valor)"
   ]
  },
  {
   "cell_type": "code",
   "execution_count": 10,
   "id": "d308d8eb",
   "metadata": {},
   "outputs": [
    {
     "name": "stdout",
     "output_type": "stream",
     "text": [
      "20\n"
     ]
    },
    {
     "data": {
      "text/plain": [
       "10"
      ]
     },
     "execution_count": 10,
     "metadata": {},
     "output_type": "execute_result"
    }
   ],
   "source": [
    "funcion()\n",
    "valor"
   ]
  },
  {
   "cell_type": "code",
   "execution_count": 11,
   "id": "7a205b30",
   "metadata": {},
   "outputs": [],
   "source": [
    "def funcion():\n",
    "    global valor # con esto podemos moficar el valor global dentro de la función\n",
    "    valor = 20\n",
    "    print(valor)"
   ]
  },
  {
   "cell_type": "code",
   "execution_count": 12,
   "id": "b7a05f81",
   "metadata": {},
   "outputs": [
    {
     "name": "stdout",
     "output_type": "stream",
     "text": [
      "20\n"
     ]
    },
    {
     "data": {
      "text/plain": [
       "20"
      ]
     },
     "execution_count": 12,
     "metadata": {},
     "output_type": "execute_result"
    }
   ],
   "source": [
    "funcion()\n",
    "valor"
   ]
  },
  {
   "cell_type": "markdown",
   "id": "c05e88f7",
   "metadata": {},
   "source": [
    "# Funicones anidadas\n",
    "\n",
    "se pueden funciones dentro de funciones "
   ]
  },
  {
   "cell_type": "code",
   "execution_count": 13,
   "id": "f18468e1",
   "metadata": {},
   "outputs": [],
   "source": [
    "def funcion_externa():\n",
    "    def funcion_interna():\n",
    "        print(\"yo solo saludo como siempre\")\n",
    "    funcion_interna()\n",
    "        \n"
   ]
  },
  {
   "cell_type": "code",
   "execution_count": 14,
   "id": "9a90a457",
   "metadata": {},
   "outputs": [
    {
     "name": "stdout",
     "output_type": "stream",
     "text": [
      "yo solo saludo como siempre\n"
     ]
    }
   ],
   "source": [
    "funcion_externa()"
   ]
  },
  {
   "cell_type": "code",
   "execution_count": 15,
   "id": "cc9a8fee",
   "metadata": {},
   "outputs": [],
   "source": [
    "# se pueden retornar funciones\n",
    "\n",
    "def funcion_externa():\n",
    "    def funcion_interna():\n",
    "        print(\"yo solo saludo como siempre\")\n",
    "    return funcion_interna\n",
    "\n",
    "        "
   ]
  },
  {
   "cell_type": "code",
   "execution_count": 18,
   "id": "8a795161",
   "metadata": {},
   "outputs": [
    {
     "data": {
      "text/plain": [
       "function"
      ]
     },
     "execution_count": 18,
     "metadata": {},
     "output_type": "execute_result"
    }
   ],
   "source": [
    "func_int = funcion_externa()\n",
    "type(func_int)"
   ]
  },
  {
   "cell_type": "code",
   "execution_count": 19,
   "id": "ad9ac8a5",
   "metadata": {},
   "outputs": [
    {
     "name": "stdout",
     "output_type": "stream",
     "text": [
      "yo solo saludo como siempre\n"
     ]
    }
   ],
   "source": [
    "func_int()"
   ]
  },
  {
   "cell_type": "code",
   "execution_count": 33,
   "id": "9d5cc439",
   "metadata": {},
   "outputs": [],
   "source": [
    "a=\"un saludo de nuevo\"\n",
    "def funcion_externa():\n",
    "    a=\"estoy dentro de función externa\"\n",
    "    def funcion_interna():\n",
    "        nonlocal a\n",
    "        a=\"modificada\"\n",
    "        print(a)\n",
    "    funcion_interna()\n",
    "    print(a)"
   ]
  },
  {
   "cell_type": "code",
   "execution_count": 34,
   "id": "886592ca",
   "metadata": {},
   "outputs": [
    {
     "name": "stdout",
     "output_type": "stream",
     "text": [
      "modificada\n",
      "modificada\n"
     ]
    }
   ],
   "source": [
    "funcion_externa()"
   ]
  },
  {
   "cell_type": "code",
   "execution_count": 23,
   "id": "ca032b2c",
   "metadata": {},
   "outputs": [
    {
     "data": {
      "text/plain": [
       "'un saludo de nuevo'"
      ]
     },
     "execution_count": 23,
     "metadata": {},
     "output_type": "execute_result"
    }
   ],
   "source": [
    "a"
   ]
  },
  {
   "cell_type": "code",
   "execution_count": 25,
   "id": "adecd50c",
   "metadata": {},
   "outputs": [],
   "source": [
    "a=\"un saludo de nuevo\"\n",
    "def funcion_externa():\n",
    "    a=\"estoy dentro de función externa\"\n",
    "    def funcion_interna():\n",
    "        global a\n",
    "        print(a)\n",
    "    funcion_interna()\n"
   ]
  },
  {
   "cell_type": "code",
   "execution_count": 26,
   "id": "1b09245d",
   "metadata": {},
   "outputs": [
    {
     "name": "stdout",
     "output_type": "stream",
     "text": [
      "un saludo de nuevo\n"
     ]
    }
   ],
   "source": [
    "funcion_externa()"
   ]
  },
  {
   "cell_type": "markdown",
   "id": "c3597a14",
   "metadata": {},
   "source": [
    "# Ejemplos prácticos y realmente útliles, no solo saludos!"
   ]
  },
  {
   "cell_type": "code",
   "execution_count": 37,
   "id": "dbab4e71",
   "metadata": {},
   "outputs": [],
   "source": [
    "investigadores=[]\n",
    "investigadores.append({\"nombre\":\"Juan\", \"apellido\":\" Restrepo\",\"edad\":32,\"sexo\":\"M\"})\n",
    "investigadores.append({\"nombre\":\"Laura\", \"apellido\":\"Mesa\",\"edad\":44,\"sexo\":\"F\"})\n",
    "investigadores.append({\"nombre\":\"Cristina\", \"apellido\": \"Bedoya\",\"edad\":17,\"sexo\":\"F\"})\n",
    "investigadores.append({\"nombre\":\"Camilo\", \"apellido\": \"Salazar\",\"edad\":38,\"sexo\":\"M\"})\n",
    "investigadores.append({\"nombre\":\"Alejando\", \"apellido\": \"Gutiérrez\",\"edad\":22,\"sexo\":\"M\"})\n",
    "investigadores.append({\"nombre\":\"Ana\", \"apellido\": \"López\",\"edad\":33,\"sexo\":\"F\"})\n",
    "investigadores.append({\"nombre\":\"Marie\", \"apellido\": \"Zapata\",\"edad\":0,\"sexo\":\"F\"})"
   ]
  },
  {
   "cell_type": "code",
   "execution_count": 38,
   "id": "76826bd8",
   "metadata": {},
   "outputs": [
    {
     "data": {
      "text/plain": [
       "[{'nombre': 'Juan', 'apellido': ' Restrepo', 'edad': 32, 'sexo': 'M'},\n",
       " {'nombre': 'Laura', 'apellido': 'Mesa', 'edad': 44, 'sexo': 'F'},\n",
       " {'nombre': 'Cristina', 'apellido': 'Bedoya', 'edad': 17, 'sexo': 'F'},\n",
       " {'nombre': 'Camilo', 'apellido': 'Salazar', 'edad': 38, 'sexo': 'M'},\n",
       " {'nombre': 'Alejando', 'apellido': 'Gutiérrez', 'edad': 22, 'sexo': 'M'},\n",
       " {'nombre': 'Ana', 'apellido': 'López', 'edad': 33, 'sexo': 'F'},\n",
       " {'nombre': 'Marie', 'apellido': 'Zapata', 'edad': 0, 'sexo': 'F'}]"
      ]
     },
     "execution_count": 38,
     "metadata": {},
     "output_type": "execute_result"
    }
   ],
   "source": [
    "investigadores"
   ]
  },
  {
   "cell_type": "code",
   "execution_count": 43,
   "id": "7e45b968",
   "metadata": {},
   "outputs": [],
   "source": [
    "#rutina para sacar los nombres\n",
    "\n",
    "def sacar_nombres(inves):\n",
    "    nombres=[]\n",
    "    for i in inves:\n",
    "        nombres.append(i[\"nombre\"])\n",
    "    return nombres\n",
    "\n"
   ]
  },
  {
   "cell_type": "code",
   "execution_count": 44,
   "id": "c087f323",
   "metadata": {},
   "outputs": [
    {
     "data": {
      "text/plain": [
       "['Juan', 'Laura', 'Cristina', 'Camilo', 'Alejando', 'Ana', 'Marie']"
      ]
     },
     "execution_count": 44,
     "metadata": {},
     "output_type": "execute_result"
    }
   ],
   "source": [
    "sacar_nombres(investigadores)"
   ]
  },
  {
   "cell_type": "markdown",
   "id": "c19e8c20",
   "metadata": {},
   "source": [
    "## Ejercicios\n",
    "\n",
    "* Sacar mayores de edad\n",
    "* Sacar mujeres\n",
    "* Sacar hombres\n",
    "* Sacar nombres y apellidos juntos"
   ]
  },
  {
   "cell_type": "code",
   "execution_count": null,
   "id": "c9bf59e1",
   "metadata": {},
   "outputs": [],
   "source": []
  }
 ],
 "metadata": {
  "kernelspec": {
   "display_name": "Python 3 (ipykernel)",
   "language": "python",
   "name": "python3"
  },
  "language_info": {
   "codemirror_mode": {
    "name": "ipython",
    "version": 3
   },
   "file_extension": ".py",
   "mimetype": "text/x-python",
   "name": "python",
   "nbconvert_exporter": "python",
   "pygments_lexer": "ipython3",
   "version": "3.10.4"
  }
 },
 "nbformat": 4,
 "nbformat_minor": 5
}
