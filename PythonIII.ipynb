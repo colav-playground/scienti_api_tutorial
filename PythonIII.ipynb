{
 "cells": [
  {
   "cell_type": "markdown",
   "id": "519a5c32",
   "metadata": {},
   "source": [
    "\n",
    "<a href=\"https://colab.research.google.com/github/colav-playground/scienti_api_tutorial/blob/main/PythonIII.ipynb\">\n",
    "  <img align=\"left\" src=\"https://colab.research.google.com/assets/colab-badge.svg\" alt=\"Open In Colab\"/>\n",
    "</a>\n",
    "\n",
    "![Colav UdeA](https://raw.githubusercontent.com/colav/colav.github.io/master/img/Logo.png)\n",
    "\n",
    "# Tutorial Python III\n",
    "\n",
    "Funciones y Entrada/Salida\n",
    "\n",
    "# Tareas\n",
    "Revisar los casos de estos tutoriales:\n",
    "\n",
    "* https://www.mclibre.org/consultar/python/lecciones/python-funciones-1.html\n",
    "* https://www.mclibre.org/consultar/python/lecciones/python-funciones-2.html"
   ]
  },
  {
   "cell_type": "markdown",
   "id": "32460c6e",
   "metadata": {},
   "source": [
    "# Funciones\n",
    "\n",
    "* Son bloques de código que se pueden reutilizar fácilmente\n",
    "* Se definen con def\n",
    "* Retornan uno o múltiples valores\n",
    "* Para retornar se usa la palabla clave return\n",
    "* Puede recibir parámetros"
   ]
  },
  {
   "cell_type": "code",
   "execution_count": null,
   "id": "a509b73c",
   "metadata": {},
   "outputs": [],
   "source": [
    "def saludo():\n",
    "    print(\"hola a todos y todas\")"
   ]
  },
  {
   "cell_type": "code",
   "execution_count": null,
   "id": "1d4c1ab4",
   "metadata": {},
   "outputs": [],
   "source": [
    "saludo()"
   ]
  },
  {
   "cell_type": "code",
   "execution_count": null,
   "id": "b349d386",
   "metadata": {},
   "outputs": [],
   "source": [
    "retorno=saludo()\n",
    "print(type(retorno))"
   ]
  },
  {
   "cell_type": "code",
   "execution_count": null,
   "id": "dfd7b185",
   "metadata": {},
   "outputs": [],
   "source": [
    "def saludo(nombre):\n",
    "    return f\"hola {nombre}\""
   ]
  },
  {
   "cell_type": "code",
   "execution_count": null,
   "id": "ed9e1c0e",
   "metadata": {},
   "outputs": [],
   "source": [
    "saludo()"
   ]
  },
  {
   "cell_type": "code",
   "execution_count": null,
   "id": "9426bfdc",
   "metadata": {},
   "outputs": [],
   "source": [
    "saludo(\"Marie\")"
   ]
  },
  {
   "cell_type": "code",
   "execution_count": null,
   "id": "ee885c3f",
   "metadata": {},
   "outputs": [],
   "source": [
    "def suma(a,b):\n",
    "    return a+b"
   ]
  },
  {
   "cell_type": "code",
   "execution_count": null,
   "id": "ffb657de",
   "metadata": {},
   "outputs": [],
   "source": [
    "suma(1,2)"
   ]
  },
  {
   "cell_type": "code",
   "execution_count": null,
   "id": "85a66f8b",
   "metadata": {},
   "outputs": [],
   "source": [
    "suma(\"a\",\"b\")"
   ]
  },
  {
   "cell_type": "markdown",
   "id": "9c5b6487",
   "metadata": {},
   "source": [
    "### Variables locales y globales\n",
    "\n",
    "Puede haber confusión en las variables que de definen dentro y fuera de la función con el mismo nombre,\n",
    "para eso vamos a ver variables globales y locales.\n"
   ]
  },
  {
   "cell_type": "code",
   "execution_count": null,
   "id": "847011e1",
   "metadata": {},
   "outputs": [],
   "source": [
    "valor = 10\n",
    "\n",
    "def funcion():\n",
    "    valor = 20\n",
    "    print(valor)"
   ]
  },
  {
   "cell_type": "code",
   "execution_count": null,
   "id": "5c9f4052",
   "metadata": {},
   "outputs": [],
   "source": [
    "funcion()\n",
    "valor"
   ]
  },
  {
   "cell_type": "code",
   "execution_count": null,
   "id": "71212f8f",
   "metadata": {},
   "outputs": [],
   "source": [
    "def funcion():\n",
    "    global valor # con esto podemos moficar el valor global dentro de la función\n",
    "    valor = 20\n",
    "    print(valor)"
   ]
  },
  {
   "cell_type": "code",
   "execution_count": null,
   "id": "e6ff0dd6",
   "metadata": {},
   "outputs": [],
   "source": [
    "funcion()\n",
    "valor"
   ]
  },
  {
   "cell_type": "markdown",
   "id": "e6494668",
   "metadata": {},
   "source": [
    "# Funicones anidadas\n",
    "\n",
    "Se pueden funciones dentro de funciones:"
   ]
  },
  {
   "cell_type": "code",
   "execution_count": null,
   "id": "05f49702",
   "metadata": {},
   "outputs": [],
   "source": [
    "def funcion_externa():\n",
    "    def funcion_interna():\n",
    "        print(\"sólo saludo como siempre\")\n",
    "    funcion_interna()\n",
    "        \n"
   ]
  },
  {
   "cell_type": "code",
   "execution_count": null,
   "id": "1efe8519",
   "metadata": {},
   "outputs": [],
   "source": [
    "funcion_externa()"
   ]
  },
  {
   "cell_type": "code",
   "execution_count": null,
   "id": "890ed704",
   "metadata": {},
   "outputs": [],
   "source": [
    "# se pueden retornar funciones\n",
    "\n",
    "def funcion_externa():\n",
    "    def funcion_interna():\n",
    "        print(\"sólo saludo como siempre\")\n",
    "    return funcion_interna\n",
    "\n",
    "        "
   ]
  },
  {
   "cell_type": "code",
   "execution_count": null,
   "id": "0cc86285",
   "metadata": {},
   "outputs": [],
   "source": [
    "func_int = funcion_externa()\n",
    "type(func_int)"
   ]
  },
  {
   "cell_type": "code",
   "execution_count": null,
   "id": "00100d02",
   "metadata": {},
   "outputs": [],
   "source": [
    "func_int()"
   ]
  },
  {
   "cell_type": "code",
   "execution_count": null,
   "id": "f0da800e",
   "metadata": {},
   "outputs": [],
   "source": [
    "a=\"un saludo de nuevo\"\n",
    "def funcion_externa():\n",
    "    a=\"estoy dentro de función externa\"\n",
    "    def funcion_interna():\n",
    "        nonlocal a\n",
    "        a=\"modificada\"\n",
    "        print(a)\n",
    "    funcion_interna()\n",
    "    print(a)"
   ]
  },
  {
   "cell_type": "code",
   "execution_count": null,
   "id": "bc44a4ba",
   "metadata": {},
   "outputs": [],
   "source": [
    "funcion_externa()"
   ]
  },
  {
   "cell_type": "code",
   "execution_count": null,
   "id": "052e684f",
   "metadata": {},
   "outputs": [],
   "source": [
    "a"
   ]
  },
  {
   "cell_type": "code",
   "execution_count": null,
   "id": "3ef15545",
   "metadata": {},
   "outputs": [],
   "source": [
    "a=\"un saludo de nuevo\"\n",
    "def funcion_externa():\n",
    "    a=\"estoy dentro de función externa\"\n",
    "    def funcion_interna():\n",
    "        global a\n",
    "        print(a)\n",
    "    funcion_interna()\n"
   ]
  },
  {
   "cell_type": "code",
   "execution_count": null,
   "id": "00084471",
   "metadata": {},
   "outputs": [],
   "source": [
    "funcion_externa()"
   ]
  },
  {
   "cell_type": "markdown",
   "id": "a5091edc",
   "metadata": {},
   "source": [
    "# Ejemplos prácticos y realmente útliles, no solo saludos!"
   ]
  },
  {
   "cell_type": "code",
   "execution_count": null,
   "id": "d6f9135e",
   "metadata": {},
   "outputs": [],
   "source": [
    "investigadores=[]\n",
    "investigadores.append({\"nombre\":\"Juan\", \"apellido\":\" Restrepo\",\"edad\":32,\"sexo\":\"M\"})\n",
    "investigadores.append({\"nombre\":\"Laura\", \"apellido\":\"Mesa\",\"edad\":44,\"sexo\":\"F\"})\n",
    "investigadores.append({\"nombre\":\"Cristina\", \"apellido\": \"Bedoya\",\"edad\":17,\"sexo\":\"F\"})\n",
    "investigadores.append({\"nombre\":\"Camilo\", \"apellido\": \"Salazar\",\"edad\":38,\"sexo\":\"M\"})\n",
    "investigadores.append({\"nombre\":\"Alejando\", \"apellido\": \"Gutiérrez\",\"edad\":22,\"sexo\":\"M\"})\n",
    "investigadores.append({\"nombre\":\"Ana\", \"apellido\": \"López\",\"edad\":33,\"sexo\":\"F\"})\n",
    "investigadores.append({\"nombre\":\"Marie\", \"apellido\": \"Zapata\",\"edad\":0,\"sexo\":\"F\"})"
   ]
  },
  {
   "cell_type": "code",
   "execution_count": null,
   "id": "7059daad",
   "metadata": {},
   "outputs": [],
   "source": [
    "investigadores"
   ]
  },
  {
   "cell_type": "code",
   "execution_count": null,
   "id": "d15bf063",
   "metadata": {},
   "outputs": [],
   "source": [
    "#rutina para sacar los nombres\n",
    "\n",
    "def sacar_nombres(inves):\n",
    "    nombres=[]\n",
    "    for i in inves:\n",
    "        nombres.append(i[\"nombre\"])\n",
    "    return nombres\n",
    "\n"
   ]
  },
  {
   "cell_type": "code",
   "execution_count": null,
   "id": "2e9f1be5",
   "metadata": {},
   "outputs": [],
   "source": [
    "sacar_nombres(investigadores)"
   ]
  },
  {
   "cell_type": "markdown",
   "id": "66cc9968",
   "metadata": {},
   "source": [
    "## Ejercicios\n",
    "\n",
    "* Sacar mayores de edad\n",
    "* Sacar mujeres\n",
    "* Sacar hombres\n",
    "* Sacar nombres y apellidos juntos"
   ]
  },
  {
   "cell_type": "code",
   "execution_count": null,
   "id": "98d85519",
   "metadata": {},
   "outputs": [],
   "source": []
  }
 ],
 "metadata": {
  "kernelspec": {
   "display_name": "Python 3 (ipykernel)",
   "language": "python",
   "name": "python3"
  },
  "language_info": {
   "codemirror_mode": {
    "name": "ipython",
    "version": 3
   },
   "file_extension": ".py",
   "mimetype": "text/x-python",
   "name": "python",
   "nbconvert_exporter": "python",
   "pygments_lexer": "ipython3",
   "version": "3.10.6"
  }
 },
 "nbformat": 4,
 "nbformat_minor": 5
}
