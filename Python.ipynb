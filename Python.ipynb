{
 "cells": [
  {
   "cell_type": "markdown",
   "id": "44366fff",
   "metadata": {},
   "source": [
    "![Colav UdeA](https://raw.githubusercontent.com/colav/colav.github.io/master/img/Logo.png)\n",
    "\n",
    "# Tutorial Python\n",
    "\n",
    "* Variables\n",
    "* Listas"
   ]
  },
  {
   "cell_type": "code",
   "execution_count": null,
   "id": "3707808d",
   "metadata": {},
   "outputs": [],
   "source": []
  },
  {
   "cell_type": "code",
   "execution_count": null,
   "id": "8d4322b2",
   "metadata": {},
   "outputs": [],
   "source": []
  },
  {
   "cell_type": "code",
   "execution_count": null,
   "id": "b28af145",
   "metadata": {},
   "outputs": [],
   "source": []
  }
 ],
 "metadata": {
  "kernelspec": {
   "display_name": "Python 3 (ipykernel)",
   "language": "python",
   "name": "python3"
  },
  "language_info": {
   "codemirror_mode": {
    "name": "ipython",
    "version": 3
   },
   "file_extension": ".py",
   "mimetype": "text/x-python",
   "name": "python",
   "nbconvert_exporter": "python",
   "pygments_lexer": "ipython3",
   "version": "3.10.4"
  }
 },
 "nbformat": 4,
 "nbformat_minor": 5
}
