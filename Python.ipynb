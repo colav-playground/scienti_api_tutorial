{
 "cells": [
  {
   "cell_type": "markdown",
   "id": "519a5c32",
   "metadata": {},
   "source": [
    "\n",
    "<a href=\"https://colab.research.google.com/github/colav-playground/scienti_api_tutorial/blob/main/Python.ipynb\">\n",
    "  <img align=\"left\" src=\"https://colab.research.google.com/assets/colab-badge.svg\" alt=\"Open In Colab\"/>\n",
    "</a>\n",
    "\n",
    "![Colav UdeA](https://raw.githubusercontent.com/colav/colav.github.io/master/img/Logo.png)\n",
    "\n",
    "# Tutorial Python\n",
    "\n",
    "## Variables"
   ]
  },
  {
   "cell_type": "code",
   "execution_count": null,
   "id": "0fa0ec76",
   "metadata": {},
   "outputs": [],
   "source": [
    "#cadena de caracteres\n",
    "a=\"hola\"\n",
    "print(a)\n",
    "print(type(a))"
   ]
  },
  {
   "cell_type": "code",
   "execution_count": null,
   "id": "3e8d4c36",
   "metadata": {},
   "outputs": [],
   "source": [
    "#entero\n",
    "b=1\n",
    "print(b)\n",
    "print(type(b))"
   ]
  },
  {
   "cell_type": "code",
   "execution_count": null,
   "id": "1a1b4db3",
   "metadata": {},
   "outputs": [],
   "source": [
    "# punto flotante\n",
    "c=0.1\n",
    "print(c)\n",
    "print(type(c))"
   ]
  },
  {
   "cell_type": "code",
   "execution_count": null,
   "id": "c97c6f2b",
   "metadata": {},
   "outputs": [],
   "source": [
    "#diccionario\n",
    "d={\"hola\":\"mundo\"}\n",
    "print(d)\n",
    "print(type(d))"
   ]
  },
  {
   "cell_type": "code",
   "execution_count": null,
   "id": "50dc226e",
   "metadata": {},
   "outputs": [],
   "source": [
    "#listas\n",
    "e=[1,2,3]\n",
    "print(e)\n",
    "print(type(e))"
   ]
  },
  {
   "cell_type": "code",
   "execution_count": null,
   "id": "17489940",
   "metadata": {},
   "outputs": [],
   "source": [
    "#tuplas\n",
    "e=(1,2,3)\n",
    "print(e)\n",
    "print(type(e))"
   ]
  },
  {
   "cell_type": "code",
   "execution_count": null,
   "id": "63b9ab91",
   "metadata": {},
   "outputs": [],
   "source": []
  }
 ],
 "metadata": {
  "kernelspec": {
   "display_name": "Python 3 (ipykernel)",
   "language": "python",
   "name": "python3"
  },
  "language_info": {
   "codemirror_mode": {
    "name": "ipython",
    "version": 3
   },
   "file_extension": ".py",
   "mimetype": "text/x-python",
   "name": "python",
   "nbconvert_exporter": "python",
   "pygments_lexer": "ipython3",
   "version": "3.10.4"
  }
 },
 "nbformat": 4,
 "nbformat_minor": 5
}
