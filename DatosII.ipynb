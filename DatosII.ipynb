{
 "cells": [
  {
   "cell_type": "markdown",
   "id": "519a5c32",
   "metadata": {},
   "source": [
    "\n",
    "<a href=\"https://colab.research.google.com/github/colav-playground/scienti_api_tutorial/blob/main/DatosII.ipynb\">\n",
    "  <img align=\"left\" src=\"https://colab.research.google.com/assets/colab-badge.svg\" alt=\"Open In Colab\"/>\n",
    "</a>\n",
    "\n",
    "![Colav UdeA](https://raw.githubusercontent.com/colav/colav.github.io/master/img/Logo.png)\n",
    "\n",
    "# Tutorial Scienti Datos II\n",
    "\n",
    "APIs, EndPoint y request a Scienti.\n",
    "\n"
   ]
  },
  {
   "cell_type": "markdown",
   "id": "32460c6e",
   "metadata": {},
   "source": [
    "# ¿Qué es una URL?\n",
    " URL significa Uniform Resource Locator (Localizador de Recursos Uniforme).\n",
    " No es más que una ruta de acceso a un recurso único en la web. Ver más en <a href=\"https://developer.mozilla.org/es/docs/Learn/Common_questions/What_is_a_URL\">link</a>\n",
    "\n",
    "# ¿Qué es un API?\n",
    "La interfaz de programación de aplicaciones, conocida también por la sigla API, en inglés, application programming interface, es un conjunto de subrutinas, funciones y procedimientos (o métodos, en la programación orientada a objetos), que ofrece cierta biblioteca para ser utilizada por otro software como una capa de abstracción. Ver más en <a href=\"https://es.wikipedia.org/wiki/Interfaz_de_programaci%C3%B3n_de_aplicaciones\">link</a><br>\n",
    "En el caso web, es un conjunto de procedimientos que se pasan a través de parámetros en la URL.\n",
    "\n",
    "# ¿Qué es un endpoint?\n",
    "Son las URL de los APIs\n",
    "\n",
    "\n",
    "**Ejemplo:**<br>\n",
    "Como ejemplo veamos la documentación de apidocs para scienti:\n",
    "http://clustercien.udea.edu.co:8080/apidoc/"
   ]
  },
  {
   "cell_type": "markdown",
   "id": "713a7c0d-6973-4169-a0bc-c810130168db",
   "metadata": {},
   "source": [
    "# ¿Cómo bajamos datos de scienti de nuestro API?\n",
    "\n",
    "* Lo primero es cargar una lista de ids de los productos que queremos bajar, para esto tenemos que cargar un archivo json como lo vinos en la clase pasada\n",
    "* Luego tenemos que que iterar sobre esos ids haciendo request para obtener la información\n",
    "* la información que vamos bajando la vamos almacenando en una lista"
   ]
  },
  {
   "cell_type": "code",
   "execution_count": null,
   "id": "a509b73c",
   "metadata": {},
   "outputs": [],
   "source": [
    "import json\n",
    "import getpass\n",
    "import requests\n",
    "from IPython.display import JSON, HTML"
   ]
  },
  {
   "cell_type": "code",
   "execution_count": null,
   "id": "d28eac8e-e6a1-44af-8c85-495de8641b4a",
   "metadata": {},
   "outputs": [],
   "source": [
    "# Esta función es solo para mostar el json con formato e interactivo \n",
    "render_template = \"\"\"\n",
    "<script src=\"https://rawgit.com/caldwell/renderjson/master/renderjson.js\"></script>\n",
    "<script>\n",
    "renderjson.set_show_to_level(1)\n",
    "document.body.appendChild(renderjson(%s))\n",
    "new ResizeObserver(google.colab.output.resizeIframeToContent).observe(document.body)\n",
    "</script>\n",
    "\"\"\"\n",
    "\n",
    "def render(jsondict):\n",
    "    return HTML(render_template % json.dumps(jsondict))"
   ]
  },
  {
   "cell_type": "code",
   "execution_count": null,
   "id": "1d4c1ab4",
   "metadata": {},
   "outputs": [],
   "source": [
    "# cargamos los ids, como aprendimos en el tutorial datos I\n",
    "req = requests.get(\"https://raw.githubusercontent.com/colav-playground/scienti_api_tutorial/main/product_ids.json\")\n",
    "pids = req.json()\n",
    "render(pids)"
   ]
  },
  {
   "cell_type": "markdown",
   "id": "eab278b4-9f85-4b0d-af33-74936920a63b",
   "metadata": {},
   "source": [
    "# Configuramos algunas variables para hacer las consultas"
   ]
  },
  {
   "cell_type": "code",
   "execution_count": null,
   "id": "0c20c082-2fe1-4569-9099-d1394d02ecac",
   "metadata": {},
   "outputs": [],
   "source": [
    "endpoint=\"http://clustercien.udea.edu.co:8080/scienti/product\"\n",
    "model_year=2022\n",
    "apikey=getpass.getpass()"
   ]
  },
  {
   "cell_type": "code",
   "execution_count": null,
   "id": "b349d386",
   "metadata": {},
   "outputs": [],
   "source": [
    "productos = []\n",
    "for i in pids:\n",
    "    params={\"apikey\":apikey,\"model_year\":model_year,\"COD_RH\":i[\"COD_RH\"],\"COD_PRODUCTO\":i[\"COD_PRODUCTO\"]}\n",
    "    req=requests.get(endpoint,params=params)\n",
    "    if req.status_code == 200:\n",
    "        productos.append(req.json())\n",
    "    else:\n",
    "        print(\"Fallo el request para = \",i)"
   ]
  },
  {
   "cell_type": "code",
   "execution_count": null,
   "id": "c2797c42-e9aa-4416-827a-e52884caef45",
   "metadata": {},
   "outputs": [],
   "source": [
    "render(productos)"
   ]
  },
  {
   "cell_type": "markdown",
   "id": "5480c397-6357-4e59-8047-5b1c3dbbb257",
   "metadata": {},
   "source": [
    "# Ejercicios\n",
    "\n",
    "* Sacar los productos que tienen grupo de investigación \n",
    "* Sacar el area de conocimiento del grupo\n",
    "* Sacar la ciudad de los autores\n",
    "* Sacar el departamento de los autores\n",
    "* Identificar cuáles son artículos y sacar la editorial\n",
    "* ... tratar de hacer un par de preguntas a los datos de los que tradicionamente necesitamos.\n"
   ]
  },
  {
   "cell_type": "code",
   "execution_count": null,
   "id": "e61ba5b1-2446-4608-94c6-caa5a19d59e5",
   "metadata": {},
   "outputs": [],
   "source": []
  }
 ],
 "metadata": {
  "kernelspec": {
   "display_name": "Python 3 (ipykernel)",
   "language": "python",
   "name": "python3"
  },
  "language_info": {
   "codemirror_mode": {
    "name": "ipython",
    "version": 3
   },
   "file_extension": ".py",
   "mimetype": "text/x-python",
   "name": "python",
   "nbconvert_exporter": "python",
   "pygments_lexer": "ipython3",
   "version": "3.10.6"
  }
 },
 "nbformat": 4,
 "nbformat_minor": 5
}
