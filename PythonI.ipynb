{
 "cells": [
  {
   "cell_type": "markdown",
   "id": "519a5c32",
   "metadata": {},
   "source": [
    "\n",
    "<a href=\"https://colab.research.google.com/github/colav-playground/scienti_api_tutorial/blob/main/Python.ipynb\">\n",
    "  <img align=\"left\" src=\"https://colab.research.google.com/assets/colab-badge.svg\" alt=\"Open In Colab\"/>\n",
    "</a>\n",
    "\n",
    "![Colav UdeA](https://raw.githubusercontent.com/colav/colav.github.io/master/img/Logo.png)\n",
    "\n",
    "# Tutorial Python\n",
    "\n"
   ]
  },
  {
   "cell_type": "markdown",
   "id": "32460c6e",
   "metadata": {},
   "source": [
    "# Notebook"
   ]
  },
  {
   "cell_type": "code",
   "execution_count": null,
   "id": "dfd7b185",
   "metadata": {},
   "outputs": [],
   "source": [
    "# Esto es un comentario de python, los comentarions no se ejecutan\n",
    "\n",
    "# La celda se ejecuta con shift enter"
   ]
  },
  {
   "cell_type": "code",
   "execution_count": null,
   "id": "49166521",
   "metadata": {},
   "outputs": [],
   "source": [
    "# para autocompletar opciones puedes ejecutar tab\n",
    "\n",
    "#para obtener ayuda puedes usar el operador ? al final de las funciones\n",
    "\n",
    "a=\"1234567\"\n",
    "a.split?"
   ]
  },
  {
   "cell_type": "code",
   "execution_count": null,
   "id": "a96611be",
   "metadata": {},
   "outputs": [],
   "source": [
    "# El número en la celda indica el orden de ejecución\n",
    "# la celda se puede ejecutar multiples veces para hacer prubeas o reescribir códigos\n"
   ]
  },
  {
   "cell_type": "markdown",
   "id": "ccfd23ab",
   "metadata": {},
   "source": [
    "## Variables"
   ]
  },
  {
   "cell_type": "code",
   "execution_count": null,
   "id": "0fa0ec76",
   "metadata": {},
   "outputs": [],
   "source": [
    "#cadena de caracteres\n",
    "a=\"hola\"\n",
    "print(a)\n",
    "print(type(a))"
   ]
  },
  {
   "cell_type": "code",
   "execution_count": null,
   "id": "3e8d4c36",
   "metadata": {},
   "outputs": [],
   "source": [
    "#entero\n",
    "b=1\n",
    "print(b)\n",
    "print(type(b))"
   ]
  },
  {
   "cell_type": "code",
   "execution_count": null,
   "id": "1a1b4db3",
   "metadata": {},
   "outputs": [],
   "source": [
    "# punto flotante\n",
    "c=0.1\n",
    "print(c)\n",
    "print(type(c))"
   ]
  },
  {
   "cell_type": "code",
   "execution_count": null,
   "id": "23da8416",
   "metadata": {},
   "outputs": [],
   "source": [
    "#diccionario\n",
    "d={\"hola\":\"mundo\"}\n",
    "print(d)\n",
    "print(type(d))"
   ]
  },
  {
   "cell_type": "code",
   "execution_count": null,
   "id": "65290937",
   "metadata": {},
   "outputs": [],
   "source": [
    "#listas\n",
    "e=[1,2,3]\n",
    "print(e)\n",
    "print(type(e))"
   ]
  },
  {
   "cell_type": "code",
   "execution_count": null,
   "id": "70effd08",
   "metadata": {},
   "outputs": [],
   "source": [
    "#tuplas\n",
    "e=(1,2,3,3)\n",
    "print(e)\n",
    "print(type(e))"
   ]
  },
  {
   "cell_type": "code",
   "execution_count": null,
   "id": "5183fb60",
   "metadata": {},
   "outputs": [],
   "source": [
    "#booleanos\n",
    "f=True #False\n",
    "print(f)\n",
    "print(type(f))"
   ]
  },
  {
   "cell_type": "code",
   "execution_count": 1,
   "id": "7272b667",
   "metadata": {},
   "outputs": [
    {
     "name": "stdout",
     "output_type": "stream",
     "text": [
      "None\n",
      "<class 'NoneType'>\n"
     ]
    }
   ],
   "source": [
    "#Nulo\n",
    "g=None \n",
    "print(g)\n",
    "print(type(g))"
   ]
  },
  {
   "cell_type": "markdown",
   "id": "ab51b2bb",
   "metadata": {},
   "source": [
    "# Operaciones básicas\n",
    "\n",
    "Python como una calculadora"
   ]
  },
  {
   "cell_type": "code",
   "execution_count": null,
   "id": "66cb4eba",
   "metadata": {},
   "outputs": [],
   "source": [
    "a+\" mundo\""
   ]
  },
  {
   "cell_type": "code",
   "execution_count": null,
   "id": "59c7b187",
   "metadata": {},
   "outputs": [],
   "source": [
    "a=1\n",
    "a+b"
   ]
  },
  {
   "cell_type": "code",
   "execution_count": null,
   "id": "4268e70d",
   "metadata": {},
   "outputs": [],
   "source": [
    "a+b+c"
   ]
  },
  {
   "cell_type": "code",
   "execution_count": null,
   "id": "4c35b12b",
   "metadata": {},
   "outputs": [],
   "source": [
    "4/(a+b)"
   ]
  },
  {
   "cell_type": "code",
   "execution_count": null,
   "id": "4e67b3f8",
   "metadata": {},
   "outputs": [],
   "source": [
    "b*2"
   ]
  },
  {
   "cell_type": "code",
   "execution_count": null,
   "id": "6bf6f08d",
   "metadata": {},
   "outputs": [],
   "source": [
    "e"
   ]
  },
  {
   "cell_type": "code",
   "execution_count": null,
   "id": "49bfaac7",
   "metadata": {},
   "outputs": [],
   "source": [
    "e.count(3)"
   ]
  },
  {
   "cell_type": "markdown",
   "id": "06a8902c",
   "metadata": {},
   "source": [
    "# Cadenas de Caracteres"
   ]
  },
  {
   "cell_type": "code",
   "execution_count": null,
   "id": "d0f107d9",
   "metadata": {},
   "outputs": [],
   "source": [
    "f\"{a} es {type(a)}\""
   ]
  },
  {
   "cell_type": "code",
   "execution_count": null,
   "id": "4f7dbade",
   "metadata": {},
   "outputs": [],
   "source": [
    "s=\"hola mundo\""
   ]
  },
  {
   "cell_type": "code",
   "execution_count": null,
   "id": "063a95cc",
   "metadata": {},
   "outputs": [],
   "source": [
    "s.upper()"
   ]
  },
  {
   "cell_type": "code",
   "execution_count": null,
   "id": "7c996c2f",
   "metadata": {},
   "outputs": [],
   "source": [
    "s.split(\" \")"
   ]
  },
  {
   "cell_type": "code",
   "execution_count": null,
   "id": "367d7be1",
   "metadata": {},
   "outputs": [],
   "source": [
    "s.replace(\" \",\"/\")"
   ]
  },
  {
   "cell_type": "code",
   "execution_count": null,
   "id": "7592347d",
   "metadata": {},
   "outputs": [],
   "source": [
    "s+s"
   ]
  },
  {
   "cell_type": "code",
   "execution_count": null,
   "id": "ac944873",
   "metadata": {},
   "outputs": [],
   "source": [
    "s.find(\" \")"
   ]
  },
  {
   "cell_type": "code",
   "execution_count": null,
   "id": "4caf0899",
   "metadata": {},
   "outputs": [],
   "source": [
    "s*2"
   ]
  },
  {
   "cell_type": "markdown",
   "id": "da26c6d1",
   "metadata": {},
   "source": [
    "# Listas"
   ]
  },
  {
   "cell_type": "code",
   "execution_count": null,
   "id": "3f6f31fe",
   "metadata": {},
   "outputs": [],
   "source": [
    "a=[1,\"2\",0.3]"
   ]
  },
  {
   "cell_type": "code",
   "execution_count": null,
   "id": "3519ec23",
   "metadata": {},
   "outputs": [],
   "source": [
    "a[0]"
   ]
  },
  {
   "cell_type": "code",
   "execution_count": null,
   "id": "567e3004",
   "metadata": {},
   "outputs": [],
   "source": [
    "a[0:2]"
   ]
  },
  {
   "cell_type": "code",
   "execution_count": null,
   "id": "ef5ba854",
   "metadata": {},
   "outputs": [],
   "source": [
    "len(a)"
   ]
  },
  {
   "cell_type": "code",
   "execution_count": null,
   "id": "7e20bcbc",
   "metadata": {},
   "outputs": [],
   "source": [
    "a.append(4)"
   ]
  },
  {
   "cell_type": "code",
   "execution_count": null,
   "id": "04aa4949",
   "metadata": {},
   "outputs": [],
   "source": [
    "a"
   ]
  },
  {
   "cell_type": "code",
   "execution_count": null,
   "id": "a7f19b9b",
   "metadata": {},
   "outputs": [],
   "source": [
    "a.remove(0.3)"
   ]
  },
  {
   "cell_type": "code",
   "execution_count": null,
   "id": "c3e02ee7",
   "metadata": {},
   "outputs": [],
   "source": [
    "a"
   ]
  },
  {
   "cell_type": "code",
   "execution_count": null,
   "id": "e48219f9",
   "metadata": {},
   "outputs": [],
   "source": [
    "a*2"
   ]
  },
  {
   "cell_type": "markdown",
   "id": "513085ba",
   "metadata": {},
   "source": [
    "# Diccionarios"
   ]
  },
  {
   "cell_type": "code",
   "execution_count": null,
   "id": "2c10cae4",
   "metadata": {},
   "outputs": [],
   "source": [
    "sujeto={\"nombre\":\"Joselito\",\"edad\":55,\"años\":[2000,2002,2018,2021]}"
   ]
  },
  {
   "cell_type": "code",
   "execution_count": null,
   "id": "03299654",
   "metadata": {},
   "outputs": [],
   "source": [
    "sujeto"
   ]
  },
  {
   "cell_type": "code",
   "execution_count": null,
   "id": "aaa27f3d",
   "metadata": {},
   "outputs": [],
   "source": [
    "sujeto.keys()"
   ]
  },
  {
   "cell_type": "code",
   "execution_count": null,
   "id": "f12b640f",
   "metadata": {},
   "outputs": [],
   "source": [
    "sujeto.values()"
   ]
  },
  {
   "cell_type": "code",
   "execution_count": null,
   "id": "f35f9479",
   "metadata": {},
   "outputs": [],
   "source": []
  }
 ],
 "metadata": {
  "kernelspec": {
   "display_name": "Python 3 (ipykernel)",
   "language": "python",
   "name": "python3"
  },
  "language_info": {
   "codemirror_mode": {
    "name": "ipython",
    "version": 3
   },
   "file_extension": ".py",
   "mimetype": "text/x-python",
   "name": "python",
   "nbconvert_exporter": "python",
   "pygments_lexer": "ipython3",
   "version": "3.10.4"
  }
 },
 "nbformat": 4,
 "nbformat_minor": 5
}
