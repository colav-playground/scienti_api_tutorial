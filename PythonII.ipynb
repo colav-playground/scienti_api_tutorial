{
 "cells": [
  {
   "cell_type": "markdown",
   "id": "519a5c32",
   "metadata": {},
   "source": [
    "\n",
    "<a href=\"https://colab.research.google.com/github/colav-playground/scienti_api_tutorial/blob/main/PythonII.ipynb\">\n",
    "  <img align=\"left\" src=\"https://colab.research.google.com/assets/colab-badge.svg\" alt=\"Open In Colab\"/>\n",
    "</a>\n",
    "\n",
    "![Colav UdeA](https://raw.githubusercontent.com/colav/colav.github.io/master/img/Logo.png)\n",
    "\n",
    "# Tutorial Python II\n",
    "\n",
    "Condicionales y  bucles\n",
    "\n",
    "# Tareas\n",
    "Tarea revisar los casos de estos tutoriales\n",
    "\n",
    "* https://www.mclibre.org/consultar/python/lecciones/python-if-else.html\n",
    "* https://www.mclibre.org/consultar/python/lecciones/python-for.html\n",
    "* https://www.mclibre.org/consultar/python/lecciones/python-for-2.html\n",
    "* https://www.mclibre.org/consultar/python/lecciones/python-while.html"
   ]
  },
  {
   "cell_type": "markdown",
   "id": "32460c6e",
   "metadata": {},
   "source": [
    "# Condicionales"
   ]
  },
  {
   "cell_type": "code",
   "execution_count": null,
   "id": "dfd7b185",
   "metadata": {},
   "outputs": [],
   "source": [
    "a=1\n",
    "b=\"hola\"\n",
    "c=None\n",
    "d=True"
   ]
  },
  {
   "cell_type": "markdown",
   "id": "9c5b6487",
   "metadata": {},
   "source": [
    "### Comparaciones lógicas\n",
    "Siempre deben retornar un valor booleano True o False\n"
   ]
  },
  {
   "cell_type": "code",
   "execution_count": null,
   "id": "847011e1",
   "metadata": {},
   "outputs": [],
   "source": [
    "a<0"
   ]
  },
  {
   "cell_type": "code",
   "execution_count": null,
   "id": "ab01f517",
   "metadata": {},
   "outputs": [],
   "source": [
    "#el operado == es una comparación no una asignación\n",
    "a==1"
   ]
  },
  {
   "cell_type": "code",
   "execution_count": null,
   "id": "70954de2",
   "metadata": {},
   "outputs": [],
   "source": [
    "a!=0"
   ]
  },
  {
   "cell_type": "code",
   "execution_count": null,
   "id": "596212cc",
   "metadata": {},
   "outputs": [],
   "source": [
    "c is None"
   ]
  },
  {
   "cell_type": "code",
   "execution_count": null,
   "id": "04b5c7b1",
   "metadata": {},
   "outputs": [],
   "source": [
    "not d"
   ]
  },
  {
   "cell_type": "code",
   "execution_count": null,
   "id": "49166521",
   "metadata": {},
   "outputs": [],
   "source": [
    "if a > 0:\n",
    "    print(\"a>0\")\n"
   ]
  },
  {
   "cell_type": "code",
   "execution_count": null,
   "id": "530037cc",
   "metadata": {},
   "outputs": [],
   "source": [
    "if b==\"hola\":\n",
    "    print(\"b es hola\")\n"
   ]
  },
  {
   "cell_type": "code",
   "execution_count": null,
   "id": "6c6faec9",
   "metadata": {},
   "outputs": [],
   "source": [
    "    \n",
    "if \"o\" in b:\n",
    "    print(\"o está en hola\")\n",
    "    \n"
   ]
  },
  {
   "cell_type": "code",
   "execution_count": null,
   "id": "5e1d7f9c",
   "metadata": {},
   "outputs": [],
   "source": [
    "if c is None:\n",
    "    print(\"c es None\")\n",
    "    \n"
   ]
  },
  {
   "cell_type": "code",
   "execution_count": null,
   "id": "f71f61ae",
   "metadata": {},
   "outputs": [],
   "source": [
    "if not c:\n",
    "    print(\"c es None\")\n",
    "    \n"
   ]
  },
  {
   "cell_type": "code",
   "execution_count": null,
   "id": "12225257",
   "metadata": {},
   "outputs": [],
   "source": [
    "if d:\n",
    "    print(\"d es True\")\n",
    "    \n"
   ]
  },
  {
   "cell_type": "code",
   "execution_count": null,
   "id": "76989168",
   "metadata": {},
   "outputs": [],
   "source": [
    "if not d:\n",
    "    print(\"d es False\")\n",
    "else:\n",
    "    print(\"d es true\")\n",
    "    \n"
   ]
  },
  {
   "cell_type": "code",
   "execution_count": null,
   "id": "0b6383bf",
   "metadata": {},
   "outputs": [],
   "source": [
    "if \"a\" in b and a>0:\n",
    "    print(\"a está en hola y a>0\")\n",
    "\n"
   ]
  },
  {
   "cell_type": "code",
   "execution_count": null,
   "id": "4eb47cfe",
   "metadata": {},
   "outputs": [],
   "source": [
    "if \"z\" in b or a>1:\n",
    "    print(\"se cumplió la condición or\")\n",
    "elif \"o\" in b and c is not None:\n",
    "    print(\"se cumplió la condición or\")\n",
    "else:\n",
    "    print(\"no se cumplió nada\")"
   ]
  },
  {
   "cell_type": "markdown",
   "id": "04be5c7b",
   "metadata": {},
   "source": []
  },
  {
   "cell_type": "markdown",
   "id": "ccfd23ab",
   "metadata": {},
   "source": [
    "## Bucle for\n",
    "\n",
    "* Se require un elemento iterable para usar un bucle\n",
    "* Los variables iterables con aquellas que contienen multiples elementos, como listas, tuplas, cadenas de caracteres, diccionarios etc.."
   ]
  },
  {
   "cell_type": "code",
   "execution_count": null,
   "id": "0fa0ec76",
   "metadata": {},
   "outputs": [],
   "source": [
    "for i in [1,2,3,4]:\n",
    "    print(i)"
   ]
  },
  {
   "cell_type": "code",
   "execution_count": null,
   "id": "3e8d4c36",
   "metadata": {},
   "outputs": [],
   "source": [
    "for i in \"hola\":\n",
    "    print(i)"
   ]
  },
  {
   "cell_type": "code",
   "execution_count": null,
   "id": "1a1b4db3",
   "metadata": {},
   "outputs": [],
   "source": [
    "for i in range(5):\n",
    "    print(i)"
   ]
  },
  {
   "cell_type": "code",
   "execution_count": null,
   "id": "23da8416",
   "metadata": {},
   "outputs": [],
   "source": [
    "#diccionario\n",
    "d={'color': 'blue', 'fruit': 'apple', 'pet': 'dog'}\n"
   ]
  },
  {
   "cell_type": "code",
   "execution_count": null,
   "id": "65290937",
   "metadata": {},
   "outputs": [],
   "source": [
    "for key in d:\n",
    "    print(key)\n",
    "    #print(f\"{key} = {d[key]}\")\n",
    " "
   ]
  },
  {
   "cell_type": "code",
   "execution_count": null,
   "id": "70effd08",
   "metadata": {},
   "outputs": [],
   "source": [
    "for key,value in d.items():\n",
    "    print(key,value)"
   ]
  },
  {
   "cell_type": "markdown",
   "id": "e655d541",
   "metadata": {},
   "source": [
    "### Bucles anidados"
   ]
  },
  {
   "cell_type": "code",
   "execution_count": null,
   "id": "5183fb60",
   "metadata": {},
   "outputs": [],
   "source": [
    "for i in range(2):\n",
    "    for j in range(2):\n",
    "        print(f\"i={i} j={j}\")"
   ]
  },
  {
   "cell_type": "code",
   "execution_count": null,
   "id": "39f5fd60",
   "metadata": {},
   "outputs": [],
   "source": [
    "a=[[1,2],[3,4]]"
   ]
  },
  {
   "cell_type": "code",
   "execution_count": null,
   "id": "250a376d",
   "metadata": {},
   "outputs": [],
   "source": [
    "type(a[0])"
   ]
  },
  {
   "cell_type": "code",
   "execution_count": null,
   "id": "0406b972",
   "metadata": {},
   "outputs": [],
   "source": [
    "type(a[1])"
   ]
  },
  {
   "cell_type": "code",
   "execution_count": null,
   "id": "5bfc3990",
   "metadata": {},
   "outputs": [],
   "source": [
    "for i in a:\n",
    "    for j in i:\n",
    "        print(j)"
   ]
  },
  {
   "cell_type": "code",
   "execution_count": null,
   "id": "7272b667",
   "metadata": {},
   "outputs": [],
   "source": [
    "for i in range(2):\n",
    "    for j in range(2):\n",
    "        if i==0 and j==0:\n",
    "            print(\"inicia el for\")\n",
    "        print(f\"i={i} j={j}\")\n",
    "        if i==1 and j==1:\n",
    "            print(\"fin del for\")"
   ]
  },
  {
   "cell_type": "code",
   "execution_count": null,
   "id": "13dee30b",
   "metadata": {},
   "outputs": [],
   "source": [
    "#operador continue\n",
    "for i in range(10):\n",
    "    if i%2:\n",
    "        continue\n",
    "    \n",
    "    print(f\"{i} es par\")"
   ]
  },
  {
   "cell_type": "markdown",
   "id": "4699e88e",
   "metadata": {},
   "source": [
    "### While\n"
   ]
  },
  {
   "cell_type": "code",
   "execution_count": null,
   "id": "014787ae",
   "metadata": {},
   "outputs": [],
   "source": [
    "i = 0\n",
    "while i < 3: #mientras esto sea cierto\n",
    "    print(i)\n",
    "    i = i +1\n",
    "    #i+=1"
   ]
  },
  {
   "cell_type": "code",
   "execution_count": null,
   "id": "57cd1259",
   "metadata": {},
   "outputs": [],
   "source": [
    "#el operador break\n",
    "i = 0\n",
    "while i < 10:\n",
    "    print(i)\n",
    "    if i == 3:\n",
    "        break\n",
    "    i += 1"
   ]
  },
  {
   "cell_type": "code",
   "execution_count": null,
   "id": "4c302ec4",
   "metadata": {},
   "outputs": [],
   "source": [
    "i = 0\n",
    "while i < 6:\n",
    "    i += 1\n",
    "    if i == 3:\n",
    "        continue\n",
    "    print(i)"
   ]
  },
  {
   "cell_type": "code",
   "execution_count": null,
   "id": "8cad1c54",
   "metadata": {},
   "outputs": [],
   "source": [
    "i = 1\n",
    "while i < 6:\n",
    "    print(i)\n",
    "    i += 1\n",
    "else:\n",
    "    print(\"i is no longer less than 6\")"
   ]
  }
 ],
 "metadata": {
  "kernelspec": {
   "display_name": "Python 3 (ipykernel)",
   "language": "python",
   "name": "python3"
  },
  "language_info": {
   "codemirror_mode": {
    "name": "ipython",
    "version": 3
   },
   "file_extension": ".py",
   "mimetype": "text/x-python",
   "name": "python",
   "nbconvert_exporter": "python",
   "pygments_lexer": "ipython3",
   "version": "3.10.4"
  }
 },
 "nbformat": 4,
 "nbformat_minor": 5
}
